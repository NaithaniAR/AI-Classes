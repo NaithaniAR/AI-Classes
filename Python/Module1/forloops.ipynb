{
 "cells": [
  {
   "cell_type": "markdown",
   "id": "5ccaa73f",
   "metadata": {},
   "source": [
    "🔁 What is a for loop in Python?\n",
    "In Python, a for loop is used to iterate over a sequence (like a list, tuple, dictionary, string, or range). It automatically takes each item from the sequence one by one and runs the loop body.\n",
    "\n",
    "🧱 Syntax of a for loop:\n",
    "\n",
    "for variable in sequence:\n",
    "    # code block\n",
    "\n",
    "variable: A name for the current element from the sequence.\n",
    "sequence: Any iterable (like list, range, etc.).\n",
    "\n",
    "The code block will run once for each item in the sequence."
   ]
  },
  {
   "cell_type": "markdown",
   "id": "38203eda",
   "metadata": {},
   "source": [
    "Example with range():"
   ]
  },
  {
   "cell_type": "code",
   "execution_count": null,
   "id": "ec6fa1b9",
   "metadata": {},
   "outputs": [],
   "source": [
    "for i in range(5):\n",
    "    print(\"Hello\", i)\n"
   ]
  },
  {
   "cell_type": "markdown",
   "id": "c5a60afc",
   "metadata": {},
   "source": [
    " Loop with custom start and end:"
   ]
  },
  {
   "cell_type": "code",
   "execution_count": null,
   "id": "5e9a98f9",
   "metadata": {},
   "outputs": [],
   "source": [
    "for i in range(1, 6):\n",
    "    print(i)\n"
   ]
  },
  {
   "cell_type": "markdown",
   "id": "0b0777d3",
   "metadata": {},
   "source": [
    " Looping through a list:"
   ]
  },
  {
   "cell_type": "code",
   "execution_count": null,
   "id": "be0a21b5",
   "metadata": {},
   "outputs": [],
   "source": [
    "fruits = [\"apple\", \"banana\", \"cherry\"]\n",
    "for fruit in fruits:\n",
    "    print(fruit)\n"
   ]
  },
  {
   "cell_type": "markdown",
   "id": "14d1e3cf",
   "metadata": {},
   "source": [
    "Loop through a string:"
   ]
  },
  {
   "cell_type": "markdown",
   "id": "f72d7d5f",
   "metadata": {},
   "source": [
    "for char in \"Python\":\n",
    "    print(char)\n"
   ]
  },
  {
   "cell_type": "markdown",
   "id": "14d2f5ce",
   "metadata": {},
   "source": [
    "➕ Using break and continue:\n",
    "\n",
    "-> break: exits the loop\n",
    "-> continue: skips the current iteration"
   ]
  },
  {
   "cell_type": "code",
   "execution_count": null,
   "id": "33886ae3",
   "metadata": {},
   "outputs": [],
   "source": [
    "# Continue :\n",
    "for i in range(1, 6):\n",
    "    if i == 3:\n",
    "        continue\n",
    "    print(i)\n",
    "# Output: 1 2 4 5\n"
   ]
  },
  {
   "cell_type": "code",
   "execution_count": null,
   "id": "52917ac7",
   "metadata": {},
   "outputs": [],
   "source": [
    "# Break\n",
    "for i in range(1, 6):\n",
    "    if i == 3:\n",
    "        break\n",
    "    print(i)\n",
    "# Output: 1 2\n"
   ]
  },
  {
   "cell_type": "markdown",
   "id": "251170dc",
   "metadata": {},
   "source": [
    "🚨 break — Stop the loop when a condition is met\n",
    "🔧 Real-world use:\n",
    "Exit early when a goal is reached or an error is detected"
   ]
  },
  {
   "cell_type": "code",
   "execution_count": null,
   "id": "23e830de",
   "metadata": {},
   "outputs": [],
   "source": [
    "#  Example 1: Searching in a list\n",
    "usernames = [\"alice\", \"bob\", \"chetan\", \"david\"]\n",
    "\n",
    "search = \"chetan\"\n",
    "for user in usernames:\n",
    "    if user == search:\n",
    "        print(f\"User {search} found!\")\n",
    "        break\n"
   ]
  },
  {
   "cell_type": "code",
   "execution_count": null,
   "id": "05b998f2",
   "metadata": {},
   "outputs": [],
   "source": [
    "# Example 2: Validating password attempts\n",
    "correct_password = \"secret123\"\n",
    "\n",
    "for attempt in range(3):\n",
    "    entered = input(\"Enter password: \")\n",
    "    if entered == correct_password:\n",
    "        print(\"Access granted.\")\n",
    "        break\n",
    "    else:\n",
    "        print(\"Wrong password.\")\n"
   ]
  },
  {
   "cell_type": "markdown",
   "id": "6f678476",
   "metadata": {},
   "source": [
    "🔄 continue — Skip the current iteration and move to the next\n",
    "🔧 Real-world use:\n",
    "Skip invalid data or specific cases during processing"
   ]
  },
  {
   "cell_type": "code",
   "execution_count": null,
   "id": "224bef07",
   "metadata": {},
   "outputs": [],
   "source": [
    "# Example 1: Skipping weekends in a schedule\n",
    "\n",
    "days = [\"Mon\", \"Tue\", \"Wed\", \"Thu\", \"Fri\", \"Sat\", \"Sun\"]\n",
    "\n",
    "for day in days:\n",
    "    if day in [\"Sat\", \"Sun\"]:\n",
    "        continue  # skip weekends\n",
    "    print(f\"Working on {day}\")\n"
   ]
  },
  {
   "cell_type": "markdown",
   "id": "0fd14ceb",
   "metadata": {},
   "source": [
    "Nested for loop:"
   ]
  },
  {
   "cell_type": "code",
   "execution_count": null,
   "id": "5929993a",
   "metadata": {},
   "outputs": [],
   "source": [
    "for i in range(1, 4):\n",
    "    for j in range(1, 4):\n",
    "        print(i, j)\n"
   ]
  },
  {
   "cell_type": "markdown",
   "id": "6c8cfc27",
   "metadata": {},
   "source": [
    "Useful with enumerate():\n",
    "It will be used whenever you want value with its Index"
   ]
  },
  {
   "cell_type": "code",
   "execution_count": null,
   "id": "7906bcde",
   "metadata": {},
   "outputs": [],
   "source": [
    "fruits = [\"apple\", \"banana\", \"cherry\"]\n",
    "for index, fruit in enumerate(fruits):\n",
    "    print(index, fruit)\n"
   ]
  },
  {
   "cell_type": "markdown",
   "id": "a3365a44",
   "metadata": {},
   "source": []
  }
 ],
 "metadata": {
  "kernelspec": {
   "display_name": "Python 3",
   "language": "python",
   "name": "python3"
  },
  "language_info": {
   "codemirror_mode": {
    "name": "ipython",
    "version": 3
   },
   "file_extension": ".py",
   "mimetype": "text/x-python",
   "name": "python",
   "nbconvert_exporter": "python",
   "pygments_lexer": "ipython3",
   "version": "3.12.2"
  }
 },
 "nbformat": 4,
 "nbformat_minor": 5
}
