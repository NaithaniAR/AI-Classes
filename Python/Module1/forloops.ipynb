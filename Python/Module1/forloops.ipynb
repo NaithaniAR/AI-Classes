{
 "cells": [
  {
   "cell_type": "markdown",
   "id": "5ccaa73f",
   "metadata": {},
   "source": [
    "🔁 What is a for loop in Python?\n",
    "In Python, a for loop is used to iterate over a sequence (like a list, tuple, dictionary, string, or range). It automatically takes each item from the sequence one by one and runs the loop body.\n",
    "\n",
    "🧱 Syntax of a for loop:\n",
    "\n",
    "for variable in sequence:\n",
    "    # code block\n",
    "\n",
    "variable: A name for the current element from the sequence.\n",
    "sequence: Any iterable (like list, range, etc.).\n",
    "\n",
    "The code block will run once for each item in the sequence."
   ]
  },
  {
   "cell_type": "code",
   "execution_count": null,
   "id": "ec6fa1b9",
   "metadata": {},
   "outputs": [],
   "source": []
  },
  {
   "cell_type": "code",
   "execution_count": null,
   "id": "5e9a98f9",
   "metadata": {},
   "outputs": [],
   "source": []
  },
  {
   "cell_type": "code",
   "execution_count": null,
   "id": "be0a21b5",
   "metadata": {},
   "outputs": [],
   "source": []
  }
 ],
 "metadata": {
  "kernelspec": {
   "display_name": "Python 3",
   "language": "python",
   "name": "python3"
  },
  "language_info": {
   "codemirror_mode": {
    "name": "ipython",
    "version": 3
   },
   "file_extension": ".py",
   "mimetype": "text/x-python",
   "name": "python",
   "nbconvert_exporter": "python",
   "pygments_lexer": "ipython3",
   "version": "3.12.2"
  }
 },
 "nbformat": 4,
 "nbformat_minor": 5
}
