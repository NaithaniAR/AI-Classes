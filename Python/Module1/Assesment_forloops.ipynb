{
 "cells": [
  {
   "cell_type": "markdown",
   "id": "40e2e469",
   "metadata": {},
   "source": [
    "Questions"
   ]
  },
  {
   "cell_type": "code",
   "execution_count": null,
   "id": "dbf272f0",
   "metadata": {},
   "outputs": [],
   "source": [
    "'''\n",
    "Right-angled triangle\n",
    "\n",
    "*\n",
    "* *\n",
    "* * *\n",
    "* * * *\n",
    "* * * * *\n",
    "\n",
    "'''\n"
   ]
  },
  {
   "cell_type": "code",
   "execution_count": null,
   "id": "b2b1a3a0",
   "metadata": {},
   "outputs": [],
   "source": [
    "'''\n",
    "Pyramid\n",
    "\n",
    "    *\n",
    "   ***\n",
    "  *****\n",
    " *******\n",
    "*********\n",
    "\n",
    "'''"
   ]
  },
  {
   "cell_type": "code",
   "execution_count": null,
   "id": "93169dd0",
   "metadata": {},
   "outputs": [],
   "source": [
    "'''\n",
    "Pascal's Triangle\n",
    "\n",
    "      1\n",
    "     1 1\n",
    "    1 2 1\n",
    "   1 3 3 1\n",
    "  1 4 6 4 1\n",
    "\n",
    "'''"
   ]
  },
  {
   "cell_type": "code",
   "execution_count": null,
   "id": "c6f1c348",
   "metadata": {},
   "outputs": [],
   "source": [
    "'''\n",
    "Hourglass pattern\n",
    "\n",
    "*********\n",
    " *******\n",
    "  *****\n",
    "   ***\n",
    "    *\n",
    "   ***\n",
    "  *****\n",
    " *******\n",
    "*********\n",
    "\n",
    "\n",
    "'''"
   ]
  },
  {
   "cell_type": "code",
   "execution_count": null,
   "id": "7525557e",
   "metadata": {},
   "outputs": [],
   "source": [
    "'''\n",
    "Number pyramid\n",
    "\n",
    "    1\n",
    "   121\n",
    "  12321\n",
    " 1234321\n",
    "123454321\n",
    "\n",
    "'''"
   ]
  },
  {
   "cell_type": "code",
   "execution_count": null,
   "id": "432117c2",
   "metadata": {},
   "outputs": [],
   "source": [
    "'''\n",
    "Diamond pattern\n",
    "\n",
    "    *\n",
    "   ***\n",
    "  *****\n",
    " *******\n",
    "*********\n",
    " *******\n",
    "  *****\n",
    "   ***\n",
    "    *\n",
    "\n",
    "'''"
   ]
  },
  {
   "cell_type": "code",
   "execution_count": null,
   "id": "5e6c6c99",
   "metadata": {},
   "outputs": [],
   "source": [
    "'''\n",
    "Right-angled triangle\n",
    "\n",
    "1\n",
    "1 2\n",
    "1 2 3\n",
    "1 2 3 4\n",
    "1 2 3 4 5\n",
    "\n",
    "'''"
   ]
  },
  {
   "cell_type": "code",
   "execution_count": null,
   "id": "02a9500c",
   "metadata": {},
   "outputs": [],
   "source": [
    "'''\n",
    "Inverted triangle\n",
    "\n",
    "* * * * *\n",
    "* * * *\n",
    "* * *\n",
    "* *\n",
    "*\n",
    "\n",
    "'''"
   ]
  },
  {
   "cell_type": "code",
   "execution_count": null,
   "id": "7c1a7c3c",
   "metadata": {},
   "outputs": [],
   "source": [
    "'''\n",
    "Square\n",
    "\n",
    "* * * * *\n",
    "* * * * *\n",
    "* * * * *\n",
    "* * * * *\n",
    "* * * * *\n",
    "\n",
    "'''"
   ]
  },
  {
   "cell_type": "code",
   "execution_count": null,
   "id": "7130c49f",
   "metadata": {},
   "outputs": [],
   "source": [
    "'''\n",
    "Hollow square\n",
    "\n",
    "* * * * *\n",
    "*       *\n",
    "*       *\n",
    "*       *\n",
    "* * * * *\n",
    "\n",
    "'''"
   ]
  }
 ],
 "metadata": {
  "kernelspec": {
   "display_name": "Python 3",
   "language": "python",
   "name": "python3"
  },
  "language_info": {
   "codemirror_mode": {
    "name": "ipython",
    "version": 3
   },
   "file_extension": ".py",
   "mimetype": "text/x-python",
   "name": "python",
   "nbconvert_exporter": "python",
   "pygments_lexer": "ipython3",
   "version": "3.12.2"
  }
 },
 "nbformat": 4,
 "nbformat_minor": 5
}
